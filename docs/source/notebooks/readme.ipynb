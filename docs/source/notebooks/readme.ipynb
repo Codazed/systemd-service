{
 "cells": [
  {
   "cell_type": "markdown",
   "metadata": {},
   "source": [
    "# Systemd-Service\n",
    "\n",
    "Simple API to automate the creation of custom daemons for GNU/Linux.\n",
    "\n",
    "![GitHub top language](https://img.shields.io/github/languages/top/un-gcpds/systemd-service)\n",
    "![PyPI - License](https://img.shields.io/pypi/l/systemd-service)\n",
    "![PyPI](https://img.shields.io/pypi/v/systemd-service)\n",
    "![PyPI - Status](https://img.shields.io/pypi/status/systemd-service)\n",
    "![PyPI - Python Version](https://img.shields.io/pypi/pyversions/systemd-service)\n",
    "![GitHub last commit](https://img.shields.io/github/last-commit/un-gcpds/systemd-service)\n",
    "![CodeFactor Grade](https://img.shields.io/codefactor/grade/github/UN-GCPDS/systemd-service)\n",
    "[![Documentation Status](https://readthedocs.org/projects/systemd-service/badge/?version=latest)](https://systemd-service.readthedocs.io/en/latest/?badge=latest)\n"
   ]
  },
  {
   "cell_type": "markdown",
   "metadata": {},
   "source": [
    "A daemon is a service process that runs in the background and supervises the system or provides functionality to other processes. Traditionally, daemons are implemented following a scheme originating in SysV Unix. Modern daemons should follow a simpler yet more powerful scheme, as implemented by systemd.\n",
    "\n",
    "**Systemd-Service** is a Python module to automate the creation of daemons under GNU/Linux environments."
   ]
  },
  {
   "cell_type": "markdown",
   "metadata": {},
   "source": [
    "## Install"
   ]
  },
  {
   "cell_type": "code",
   "execution_count": null,
   "metadata": {},
   "outputs": [],
   "source": [
    "pip install -U systemd-service"
   ]
  },
  {
   "cell_type": "markdown",
   "metadata": {},
   "source": [
    "## Handle daemons"
   ]
  },
  {
   "cell_type": "code",
   "execution_count": null,
   "metadata": {},
   "outputs": [],
   "source": [
    "from systemd_service import Service\n",
    "\n",
    "daemon = Service(\"stream_rpyc\")\n",
    "\n",
    "daemon.stop()     # Start (activate) the unit.\n",
    "daemon.start()    # Stop (deactivate) the unit.\n",
    "daemon.reload()   # Reload the unit.  \n",
    "daemon.restart()  # Start or restart the unit.\n",
    "\n",
    "daemon.enable()   # Enable the unit.\n",
    "daemon.disable()  # Disable the unit.\n",
    "\n",
    "daemon.remove()   # Remove the file unit."
   ]
  },
  {
   "cell_type": "markdown",
   "metadata": {},
   "source": [
    "This commands are uquivalent to the ```systemctl``` calls, for example run in terminal the folowing command: "
   ]
  },
  {
   "cell_type": "raw",
   "metadata": {},
   "source": [
    "$ systemctl enable stream_rpyc"
   ]
  },
  {
   "cell_type": "markdown",
   "metadata": {},
   "source": [
    "Can be running inside a Python environment with using ```systemd_service``` "
   ]
  },
  {
   "cell_type": "code",
   "execution_count": null,
   "metadata": {},
   "outputs": [],
   "source": [
    "from systemd_service import Service\n",
    "\n",
    "daemon = Service(\"stream_rpyc\")\n",
    "daemon.enable()"
   ]
  },
  {
   "cell_type": "markdown",
   "metadata": {},
   "source": [
    "## Creating services\n",
    "\n",
    "Similar to the previous scripts, the services can be created using ```systemd_service```:"
   ]
  },
  {
   "cell_type": "code",
   "execution_count": null,
   "metadata": {},
   "outputs": [],
   "source": [
    "daemon = Service(\"stream_rpyc\")\n",
    "daemon.create_service()"
   ]
  },
  {
   "cell_type": "markdown",
   "metadata": {},
   "source": [
    "If the service must be initialized after other service"
   ]
  },
  {
   "cell_type": "code",
   "execution_count": null,
   "metadata": {},
   "outputs": [],
   "source": [
    "daemon = Service(\"stream_rpyc\")\n",
    "daemon.create_service(after='ntpd')"
   ]
  },
  {
   "cell_type": "markdown",
   "metadata": {},
   "source": [
    "## Creating timers\n",
    "\n",
    "Defines a timer relative to when the machine was booted up:"
   ]
  },
  {
   "cell_type": "code",
   "execution_count": null,
   "metadata": {},
   "outputs": [],
   "source": [
    "daemon = Service(\"stream_rpyc\")\n",
    "daemon.create_timer(on_boot_sec=15)"
   ]
  },
  {
   "cell_type": "markdown",
   "metadata": {},
   "source": [
    "## Example\n",
    "\n",
    "This module is useful when is combined with package scripts declaration in ```setup.py``` file:"
   ]
  },
  {
   "cell_type": "code",
   "execution_count": null,
   "metadata": {},
   "outputs": [],
   "source": [
    "# setup.py\n",
    "\n",
    "scripts=[\n",
    "    \"cmd/stream_rpyc\",\n",
    "]"
   ]
  },
  {
   "cell_type": "markdown",
   "metadata": {},
   "source": [
    "The script could looks like:"
   ]
  },
  {
   "cell_type": "code",
   "execution_count": null,
   "metadata": {},
   "outputs": [],
   "source": [
    "#!/usr/bin/env python\n",
    "\n",
    "import sys\n",
    "\n",
    "if sys.argv[-1] == \"systemd\":\n",
    "    from systemd_service import Service\n",
    "    daemon = Service(\"stream_rpyc\")\n",
    "    daemon.create_timer(on_boot_sec=10, after='network.target kafka.service')\n",
    "\n",
    "else:\n",
    "    from my_module.submodule import my_service\n",
    "    print(\"Run 'stream_rpyc systemd' as superuser to create the daemon.\")\n",
    "    my_service()"
   ]
  },
  {
   "cell_type": "markdown",
   "metadata": {},
   "source": [
    "Then the command can be called as a simple script but with the ```systemd``` argument the command will turn into a service."
   ]
  },
  {
   "cell_type": "code",
   "execution_count": null,
   "metadata": {},
   "outputs": [],
   "source": [
    "$ stream_rpyc\n",
    "# Command executed normally"
   ]
  },
  {
   "cell_type": "code",
   "execution_count": null,
   "metadata": {},
   "outputs": [],
   "source": [
    "$ stream_rpyc systemd\n",
    "# Service created"
   ]
  }
 ],
 "metadata": {
  "kernelspec": {
   "display_name": "Python 3 (ipykernel)",
   "language": "python",
   "name": "python3"
  },
  "language_info": {
   "codemirror_mode": {
    "name": "ipython",
    "version": 3
   },
   "file_extension": ".py",
   "mimetype": "text/x-python",
   "name": "python",
   "nbconvert_exporter": "python",
   "pygments_lexer": "ipython3",
   "version": "3.10.4"
  }
 },
 "nbformat": 4,
 "nbformat_minor": 4
}
