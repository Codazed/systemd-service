{
 "cells": [
  {
   "cell_type": "markdown",
   "metadata": {},
   "source": [
    "Systemd-Service\n",
    "===========\n",
    "\n",
    "![GitHub top language](https://img.shields.io/github/languages/top/un-gcpds/qt-material)\n",
    "![PyPI - License](https://img.shields.io/pypi/l/qt-material)\n",
    "![PyPI](https://img.shields.io/pypi/v/qt-material)\n",
    "![PyPI - Status](https://img.shields.io/pypi/status/qt-material)\n",
    "![PyPI - Python Version](https://img.shields.io/pypi/pyversions/qt-material)\n",
    "![GitHub last commit](https://img.shields.io/github/last-commit/un-gcpds/qt-material)\n",
    "![CodeFactor Grade](https://img.shields.io/codefactor/grade/github/UN-GCPDS/qt-material)\n",
    "[![Documentation Status](https://readthedocs.org/projects/qt-material/badge/?version=latest)](https://qt-material.readthedocs.io/en/latest/?badge=latest)\n"
   ]
  },
  {
   "cell_type": "markdown",
   "metadata": {},
   "source": [
    "## Install"
   ]
  },
  {
   "cell_type": "code",
   "execution_count": null,
   "metadata": {},
   "outputs": [],
   "source": [
    "pip install systemd_service"
   ]
  }
 ],
 "metadata": {
  "kernelspec": {
   "display_name": "Python 3 (ipykernel)",
   "language": "python",
   "name": "python3"
  },
  "language_info": {
   "codemirror_mode": {
    "name": "ipython",
    "version": 3
   },
   "file_extension": ".py",
   "mimetype": "text/x-python",
   "name": "python",
   "nbconvert_exporter": "python",
   "pygments_lexer": "ipython3",
   "version": "3.10.4"
  }
 },
 "nbformat": 4,
 "nbformat_minor": 4
}
